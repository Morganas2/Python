{
 "cells": [
  {
   "cell_type": "code",
   "execution_count": null,
   "id": "9dcdc02a",
   "metadata": {},
   "outputs": [],
   "source": [
    "print('-------------*Calculadora Python*-----------')\n",
    "num1 = float(input('Digite o primeiro numero: '))\n",
    "num2 = float(input('Digite o segundo numero: '))\n",
    "opera = int(input('Digite o numero correspondente a operacao desejada:'' \\n'\n",
    "                  \"1 - Soma \"'\\n'\n",
    "                  \"2 - Subtracao \"'\\n'\n",
    "                  \"3 - Divisao \"'\\n'\n",
    "                  \"4 - Multiplicacao \"'\\n'\n",
    "                  ))\n",
    "\n",
    "if opera == 1:\n",
    "    res = num1 + num2\n",
    "    print('O resultado da soma ente %s e %r e:'%(num1,num2),res)\n",
    "    \n",
    "    \n",
    "elif opera == 2:\n",
    "        res = num1 - num2\n",
    "        print('O resultado da subtracao ente %s e %r e:'%(num1,num2),res)\n",
    "        \n",
    "elif opera == 3:\n",
    "    res = num1 / num2\n",
    "    print('O resultado da divisao ente %s e %r e:'%(num1,num2),res)\n",
    "    \n",
    "elif opera == 4:\n",
    "    res = num1 * num2\n",
    "    print('O resultado da multiplicao ente %s e %r e:'%(num1,num2),res)\n",
    "\n",
    "else:\n",
    "    print('Operacao invalida, escolha novamente')\n",
    "\n",
    "    "
   ]
  }
 ],
 "metadata": {
  "kernelspec": {
   "display_name": "Python 3 (ipykernel)",
   "language": "python",
   "name": "python3"
  },
  "language_info": {
   "codemirror_mode": {
    "name": "ipython",
    "version": 3
   },
   "file_extension": ".py",
   "mimetype": "text/x-python",
   "name": "python",
   "nbconvert_exporter": "python",
   "pygments_lexer": "ipython3",
   "version": "3.9.13"
  }
 },
 "nbformat": 4,
 "nbformat_minor": 5
}
